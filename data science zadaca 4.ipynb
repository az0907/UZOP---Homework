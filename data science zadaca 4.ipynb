{
 "cells": [
  {
   "cell_type": "markdown",
   "id": "30e9ce05",
   "metadata": {},
   "source": [
    "# Laboratory exercise 4\n",
    "\n",
    "In this laboratory exercise you will use the questionnaire and answers given below"
   ]
  },
  {
   "cell_type": "code",
   "execution_count": null,
   "id": "d6820020",
   "metadata": {},
   "outputs": [],
   "source": []
  },
  {
   "cell_type": "code",
   "execution_count": 10,
   "id": "c53f916c",
   "metadata": {},
   "outputs": [],
   "source": [
    "questionnaire = pd.DataFrame({'Q1': [1, 2, 2, 3, 2, 2, 3, 3, 2, 3],\n",
    "                              'Q2': [1, 1, 1, 2, 3, 3, 2, 3, 3, 3],\n",
    "                              'Q3': [1, 1, 2, 1, 2, 3, 3, 3, 2, 3]})"
   ]
  },
  {
   "cell_type": "markdown",
   "id": "ce36a49d",
   "metadata": {},
   "source": [
    "1. Write a function to detrmine the realiability of the questionnaire answers with Cronbach's Alpha."
   ]
  },
  {
   "cell_type": "code",
   "execution_count": 11,
   "id": "06175f55",
   "metadata": {},
   "outputs": [
    {
     "data": {
      "text/plain": [
       "(0.7734375, array([0.336, 0.939]))"
      ]
     },
     "execution_count": 11,
     "metadata": {},
     "output_type": "execute_result"
    }
   ],
   "source": [
    "import pingouin as pg\n",
    "pg.cronbach_alpha(data=questionnaire)"
   ]
  },
  {
   "cell_type": "markdown",
   "id": "69cb9d0a",
   "metadata": {},
   "source": [
    "2. Explain the differences between in-house data labeling, crowdsourcing and outsourcing. "
   ]
  },
  {
   "cell_type": "code",
   "execution_count": null,
   "id": "71e6c38b",
   "metadata": {},
   "outputs": [],
   "source": [
    "In-house data labeling ensures the highest quality in data labeling, they are\n",
    "usually marked by scientist or people in the organization,\n",
    "often requires consulting with experts in the field to correctly label the data,\n",
    "the whole process is very slow.\n",
    "Crowdsourcing is done by a large number of freelancers registered on the\n",
    "crowdsourcing platform and the datasets are mostly made up of trivial data (\n",
    "images of animals, plants)\n",
    "Outsourcing is a middle ground between crowudosurcing and in-house labeling,\n",
    "the task of annotating data is left to an individual or organization that\n",
    "has trained annotators, its used for projects which do not have a lot of funding,\n",
    "but require significant quality data marking.\n",
    "\n"
   ]
  },
  {
   "cell_type": "markdown",
   "id": "ce3d3e91",
   "metadata": {},
   "source": [
    "3. Explain the main differences between annotation for image classification, object detection and image segmentation."
   ]
  },
  {
   "cell_type": "code",
   "execution_count": null,
   "id": "cad04c68",
   "metadata": {},
   "outputs": [],
   "source": [
    "Image classification - adding a tag to an image, the number of unique tags in \n",
    "the database is the number of classes that the model can classify\n",
    "\n",
    "Object detection - detection of objects and their locations, each object is\n",
    "marked with the smallest possible rectangle that surrounds it and usually a\n",
    "label is attached to each rectangle.\n",
    "\n",
    "Image segmentation - separates image objects from their background and other \n",
    "objects in the image. It usually results in images of the same size as the original\n",
    "image, containing 1 where the object is present and 0 where it isn't\n",
    "\n"
   ]
  }
 ],
 "metadata": {
  "kernelspec": {
   "display_name": "Python 3 (ipykernel)",
   "language": "python",
   "name": "python3"
  },
  "language_info": {
   "codemirror_mode": {
    "name": "ipython",
    "version": 3
   },
   "file_extension": ".py",
   "mimetype": "text/x-python",
   "name": "python",
   "nbconvert_exporter": "python",
   "pygments_lexer": "ipython3",
   "version": "3.11.5"
  }
 },
 "nbformat": 4,
 "nbformat_minor": 5
}
